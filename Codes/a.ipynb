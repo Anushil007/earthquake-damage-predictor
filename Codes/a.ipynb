{
 "cells": [
  {
   "cell_type": "code",
   "execution_count": 1,
   "metadata": {},
   "outputs": [],
   "source": [
    "import pandas as pd"
   ]
  },
  {
   "cell_type": "code",
   "execution_count": 2,
   "metadata": {},
   "outputs": [
    {
     "data": {
      "text/plain": [
       "Index(['building_id', 'district_id', 'vdcmun_id', 'ward_id',\n",
       "       'count_floors_pre_eq', 'count_floors_post_eq', 'age_building',\n",
       "       'plinth_area_sq_ft', 'height_ft_pre_eq', 'height_ft_post_eq',\n",
       "       'land_surface_condition', 'foundation_type', 'roof_type',\n",
       "       'ground_floor_type', 'other_floor_type', 'position',\n",
       "       'plan_configuration', 'has_superstructure_adobe_mud',\n",
       "       'has_superstructure_mud_mortar_stone', 'has_superstructure_stone_flag',\n",
       "       'has_superstructure_cement_mortar_stone',\n",
       "       'has_superstructure_mud_mortar_brick',\n",
       "       'has_superstructure_cement_mortar_brick', 'has_superstructure_timber',\n",
       "       'has_superstructure_bamboo', 'has_superstructure_rc_non_engineered',\n",
       "       'has_superstructure_rc_engineered', 'has_superstructure_other',\n",
       "       'condition_post_eq', 'damage_grade', 'technical_solution_proposed'],\n",
       "      dtype='object')"
      ]
     },
     "execution_count": 2,
     "metadata": {},
     "output_type": "execute_result"
    }
   ],
   "source": [
    "df = pd.read_csv('./csv_building_structure.csv')\n",
    "df.columns"
   ]
  },
  {
   "cell_type": "code",
   "execution_count": 6,
   "metadata": {},
   "outputs": [],
   "source": [
    "df['net_floor'] = df['count_floors_pre_eq'] - df['count_floors_post_eq']\n",
    "df['net_height'] = df['height_ft_pre_eq'] - df['height_ft_post_eq']"
   ]
  },
  {
   "cell_type": "code",
   "execution_count": 14,
   "metadata": {},
   "outputs": [
    {
     "data": {
      "text/plain": [
       "-1    629\n",
       "-3    128\n",
       "-2     49\n",
       "-6     15\n",
       "-7     11\n",
       "-5      8\n",
       "-8      6\n",
       "-4      1\n",
       "Name: net_floor, dtype: int64"
      ]
     },
     "execution_count": 14,
     "metadata": {},
     "output_type": "execute_result"
    }
   ],
   "source": [
    "df[df['net_floor'] < 0]['net_floor'].value_counts()"
   ]
  },
  {
   "cell_type": "code",
   "execution_count": 9,
   "metadata": {},
   "outputs": [
    {
     "data": {
      "text/plain": [
       " 0     442163\n",
       " 18     40044\n",
       " 14     37856\n",
       " 12     34128\n",
       " 16     26851\n",
       "        ...  \n",
       "-77         1\n",
       "-15         1\n",
       " 47         1\n",
       " 51         1\n",
       " 65         1\n",
       "Name: net_height, Length: 110, dtype: int64"
      ]
     },
     "execution_count": 9,
     "metadata": {},
     "output_type": "execute_result"
    }
   ],
   "source": [
    "df['net_height'].value_counts()\n"
   ]
  },
  {
   "cell_type": "code",
   "execution_count": null,
   "metadata": {},
   "outputs": [],
   "source": []
  }
 ],
 "metadata": {
  "kernelspec": {
   "display_name": "Python 3.8.5 ('.aivenv')",
   "language": "python",
   "name": "python3"
  },
  "language_info": {
   "codemirror_mode": {
    "name": "ipython",
    "version": 3
   },
   "file_extension": ".py",
   "mimetype": "text/x-python",
   "name": "python",
   "nbconvert_exporter": "python",
   "pygments_lexer": "ipython3",
   "version": "3.8.5"
  },
  "orig_nbformat": 4,
  "vscode": {
   "interpreter": {
    "hash": "a6aa66c812e617fe7a976665f04a60359ca2a7b0fa520cb928d0804dda4cd71e"
   }
  }
 },
 "nbformat": 4,
 "nbformat_minor": 2
}
